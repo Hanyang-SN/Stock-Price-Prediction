{
  "cells": [
    {
      "cell_type": "code",
      "execution_count": null,
      "metadata": {
        "id": "_D8afG71PBec"
      },
      "outputs": [],
      "source": [
        "!pip install pykrx\n",
        "!pip install sklearn\n",
        "!pip install tensorflow"
      ]
    },
    {
      "cell_type": "code",
      "execution_count": 5,
      "metadata": {
        "id": "onUbft1rRx-B"
      },
      "outputs": [],
      "source": [
        "import numpy as np\n",
        "import pandas as pd\n",
        "import matplotlib.pyplot as plt\n",
        "import math\n",
        "import torch, gc\n",
        "import torch.optim as optim\n",
        "from torch.utils.data import DataLoader, TensorDataset\n",
        "from torch import nn\n",
        "from pykrx import stock\n",
        "from sklearn.ensemble import VotingClassifier\n",
        "from sklearn.svm import SVC\n",
        "from sklearn.metrics import accuracy_score\n",
        "from sklearn.model_selection import train_test_split\n",
        "from sklearn.preprocessing import MinMaxScaler\n",
        "from sklearn.svm import SVR\n",
        "from sklearn.preprocessing import StandardScaler\n",
        "from sklearn.metrics import mean_squared_error\n",
        "from tensorflow import keras\n",
        "from keras.layers import Dense, LSTM\n",
        "from keras.models import Sequential, load_model\n"
      ]
    },
    {
      "cell_type": "markdown",
      "metadata": {
        "id": "b1e3wMBfNvN-"
      },
      "source": [
        "```\n",
        "\n",
        "```\n",
        "# 1. 데이터 다운로드 및 전처리\n",
        "```\n",
        "\n",
        "\n",
        "```\n",
        "\n"
      ]
    },
    {
      "cell_type": "markdown",
      "metadata": {
        "id": "OF5t3JjIBHkE"
      },
      "source": [
        "## 2) 데이터 불러오기 (5년 치, 10년 치, 50년 치)"
      ]
    },
    {
      "cell_type": "markdown",
      "metadata": {
        "id": "gfa7zTwkWMV_"
      },
      "source": [
        "### (1) 8개 종목 선택\n",
        "\n",
        "KB금융\t105560 신한지주\t055550 하나금융지주\t086790 메리츠금융지주\t138040 기업은행\t024110 미래에셋증권\t006800 NH투자증권\t005940 삼성증권\t016360"
      ]
    },
    {
      "cell_type": "code",
      "execution_count": 6,
      "metadata": {
        "id": "do3cjAAoBet9"
      },
      "outputs": [],
      "source": [
        "# Make code dictionary.\n",
        "finance_code_dict = dict()\n",
        "finance_code_list = \"KB금융\t105560 신한지주\t055550 하나금융지주\t086790 메리츠금융지주\t138040 기업은행\t024110 미래에셋증권\t006800 NH투자증권\t005940 삼성증권\t016360\".split()\n",
        "for i in range(8):\n",
        "  finance_code_dict[finance_code_list[2*i]] = finance_code_list[2*i + 1]"
      ]
    },
    {
      "cell_type": "code",
      "execution_count": 7,
      "metadata": {
        "colab": {
          "base_uri": "https://localhost:8080/"
        },
        "id": "EhkKYsLCYtoh",
        "outputId": "7937ca53-96c2-46ba-d76f-5ee5a17d55f3"
      },
      "outputs": [
        {
          "output_type": "stream",
          "name": "stdout",
          "text": [
            "{'KB금융': '105560', '신한지주': '055550', '하나금융지주': '086790', '메리츠금융지주': '138040', '기업은행': '024110', '미래에셋증권': '006800', 'NH투자증권': '005940', '삼성증권': '016360'}\n"
          ]
        }
      ],
      "source": [
        "print(finance_code_dict)"
      ]
    },
    {
      "cell_type": "markdown",
      "metadata": {
        "id": "NME5ULkFacpt"
      },
      "source": [
        "{'KB금융': '105560', '신한지주': '055550', '하나금융지주': '086790', '메리츠금융지주': '138040', '기업은행': '024110', '미래에셋증권': '006800', 'NH투자증권': '005940', '삼성증권': '016360'}\n"
      ]
    },
    {
      "cell_type": "markdown",
      "metadata": {
        "id": "cxCbVrCeYeD-"
      },
      "source": [
        "### (2) 데이터 가져오기 함수 정의 (5y, 10y)"
      ]
    },
    {
      "cell_type": "code",
      "execution_count": 8,
      "metadata": {
        "id": "Sn_sJpl5ePvU"
      },
      "outputs": [],
      "source": [
        "def get_5y_10y(ticker_name):\n",
        "  ticker_code = finance_code_dict[ticker_name]\n",
        "  return stock.get_market_ohlcv(\"20180101\", \"20221231\", ticker_code), stock.get_market_ohlcv(\"20130101\", \"20221231\", ticker_code)"
      ]
    },
    {
      "cell_type": "markdown",
      "metadata": {
        "id": "DG48bZ0AevsG"
      },
      "source": [
        "### (3) 데이터 그리기 함수 정의"
      ]
    },
    {
      "cell_type": "code",
      "execution_count": 9,
      "metadata": {
        "id": "IT7EkiKLey8m"
      },
      "outputs": [],
      "source": [
        "import matplotlib\n",
        "import matplotlib.pyplot as plt\n",
        "\n",
        "def draw_graph_10y(ticker_name):\n",
        "\n",
        "  _, df = get_5y_10y(ticker_name)\n",
        "\n",
        "  # 1 line, 3 graphs\n",
        "\n",
        "  # graph 1\n",
        "  plt.subplot(3, 1, 1)\n",
        "  series = df['종가']\n",
        "  plt.title(f\"{ticker_name} time series\")\n",
        "  plt.spring()\n",
        "  plt.plot(series)\n",
        "\n",
        "  # graph 2\n",
        "  plt.subplot(3, 1, 2)\n",
        "  plt.title(f\"{ticker_name} difference, time series\")\n",
        "  series_diff = series - series.shift(1)\n",
        "  plt.plot(series_diff)\n",
        "\n",
        "  # graph 3\n",
        "  plt.subplot(3, 1, 3)\n",
        "  plt.title(f\"{ticker_name} difference, histogram\")\n",
        "  plt.hist(series_diff)\n",
        "\n",
        "  plt.tight_layout()\n",
        "\n",
        "  plt.show()"
      ]
    },
    {
      "cell_type": "markdown",
      "metadata": {
        "id": "fvftx5hWpKtX"
      },
      "source": [
        "### (4) train_data, test_data 얻는 함수"
      ]
    },
    {
      "cell_type": "markdown",
      "metadata": {
        "id": "0Frqd9AQnmOt"
      },
      "source": [
        "rsi 계산 함수"
      ]
    },
    {
      "cell_type": "code",
      "execution_count": 11,
      "metadata": {
        "id": "FkjDlZIgmKsW"
      },
      "outputs": [],
      "source": [
        "# RSI 계산 함수\n",
        "def calculate_rsi(data, period=14):\n",
        "    delta = data.diff(1)\n",
        "    gain = delta.where(delta > 0, 0)\n",
        "    loss = -delta.where(delta < 0, 0)\n",
        "\n",
        "    avg_gain = gain.rolling(window=period, min_periods=1).mean()\n",
        "    avg_loss = loss.rolling(window=period, min_periods=1).mean()\n",
        "\n",
        "    rs = avg_gain / avg_loss\n",
        "    rsi = 100 - (100 / (1 + rs))\n",
        "    return rsi"
      ]
    },
    {
      "cell_type": "code",
      "execution_count": 12,
      "metadata": {
        "id": "_UvcQYYf7X1f"
      },
      "outputs": [],
      "source": [
        "# 데이터 기간 설정하는 부분\n",
        "\n",
        "start_date_train = \"20130101\"\n",
        "end_date_train = \"20201231\"\n",
        "start_date_test = \"20200101\"\n",
        "end_date_test = \"20230630\""
      ]
    },
    {
      "cell_type": "code",
      "execution_count": 13,
      "metadata": {
        "id": "5ekm6NeipKEy"
      },
      "outputs": [],
      "source": [
        "def get_10y_data(ticker_name):\n",
        "  ticker_code = finance_code_dict[ticker_name]\n",
        "  selected_columns = ['종가','거래량','RSI']  # 포함하려는 열 이름 리스트\n",
        "  train_df = stock.get_market_ohlcv(start_date_train, end_date_train, ticker_code)\n",
        "  test_df = stock.get_market_ohlcv(start_date_test, end_date_test, ticker_code)\n",
        "  train_df['RSI'] = calculate_rsi(train_df['종가'])\n",
        "  test_df['RSI'] = calculate_rsi(test_df['종가'])\n",
        "\n",
        "  train_df = train_df.astype('float32')\n",
        "  test_df = test_df.astype('float32')\n",
        "\n",
        "  return pd.DataFrame(train_df[selected_columns]), pd.DataFrame(test_df[selected_columns])"
      ]
    },
    {
      "cell_type": "markdown",
      "metadata": {
        "id": "zzcBKutXIEww"
      },
      "source": [
        "# 2.Dataset 윈도우"
      ]
    },
    {
      "cell_type": "code",
      "execution_count": 17,
      "metadata": {
        "id": "dIBH2MZMp3AB"
      },
      "outputs": [],
      "source": [
        "\n",
        "from torch.utils.data import DataLoader, Dataset\n",
        "class windowDataset(Dataset):\n",
        "  # data_stream     : input_window, output_window 크기에 따라 쪼개질 데이터\n",
        "  # input_window    : 인풋 기간\n",
        "  # output_window   : 아웃풋 기간\n",
        "  # stride          :\n",
        "    def __init__(self, data_stream, input_window, output_window, n_features=3, stride=5):\n",
        "        # data_stream의 행 개수를 구한다.\n",
        "        L = data_stream.shape[0]\n",
        "        # stride에 따라 샘플 개수를 구한다.\n",
        "        num_samples = (L - input_window - output_window) // stride + 1\n",
        "\n",
        "        # [window 크기 * sample 개수] 크기의, 0으로 채워진 배열을 만든다.\n",
        "        X = np.zeros([input_window, num_samples, n_features])\n",
        "        Y = np.zeros([output_window, num_samples])\n",
        "\n",
        "        # np.arange(num_samples): range(num_samples) 와 같음\n",
        "        for i in np.arange(num_samples):\n",
        "            # 1) X:   input_window 만큼 자르기 (stride * i ~)\n",
        "            start_x = stride * i\n",
        "            X[:,i] = data_stream[start_x:start_x + input_window]\n",
        "            # 2) Y:   output_window 만큼 자르기 (stride * i + input_window ~)\n",
        "            start_y = start_x + input_window\n",
        "            Y[:,i] = data_stream[start_y:start_y + output_window]['종가']\n",
        "\n",
        "\n",
        "        # shape       : [window 크기, sample 개수]\n",
        "        X = X.reshape(X.shape[0], X.shape[1], n_features).transpose((1,0,2))\n",
        "        Y = Y.reshape(Y.shape[0], Y.shape[1], 1).transpose((1,0,2))\n",
        "        X=X.astype('float32')\n",
        "        Y=Y.astype('float32')\n",
        "        self.x = X\n",
        "        self.y = Y\n",
        "\n",
        "        self.len = len(X)\n",
        "\n",
        "    def __getitem__(self, i):\n",
        "        return self.x[i], self.y[i]\n",
        "    def __len__(self):\n",
        "        return self.len\n",
        "\n"
      ]
    },
    {
      "cell_type": "markdown",
      "metadata": {
        "id": "as3ta03WIkK2"
      },
      "source": [
        "# 3.Transformer 모델 정의"
      ]
    },
    {
      "cell_type": "code",
      "execution_count": 18,
      "metadata": {
        "id": "rPshqZFbp86W"
      },
      "outputs": [],
      "source": [
        "class TFModel(nn.Module):\n",
        "\n",
        "# iw/ow:      input window, output window\n",
        "# d_model:    인풋 개수\n",
        "# nlayers:    인코더 부분의 인코더 개수\n",
        "# nhead:      multihead attention 개수\n",
        "\n",
        "    def __init__(self, iw: int, ow: int, d_model: int, nhead: int, nlayers: int, dropout=0.5, n_features=3):\n",
        "        super(TFModel, self).__init__()\n",
        "\n",
        "        # TransformerEncoderLayer 인스턴스 생성 ) 1개 인코더, 인풋 사이즈가 d_model이고 attention 개수는 nhead\n",
        "        self.encoder_layer = nn.TransformerEncoderLayer(d_model=d_model, nhead=nhead, dropout=dropout)\n",
        "\n",
        "        # stacked 인코더, nlayers 만큼 쌓여있다.\n",
        "        self.transformer_encoder = nn.TransformerEncoder(self.encoder_layer, num_layers=nlayers)\n",
        "\n",
        "        self.pos_encoder = PositionalEncoding(d_model, dropout)\n",
        "\n",
        "        # 인풋 차원 변환. 1차원 -> d_model//2차워 -> d_model차원\n",
        "        self.encoder = nn.Sequential(\n",
        "            # nn.Linear(1, d_model//2),\n",
        "            nn.Linear(n_features, d_model//2),\n",
        "            nn.ReLU(),\n",
        "            nn.Linear(d_model//2, d_model)\n",
        "        )\n",
        "\n",
        "        # 차원 변환. d_model -> d_model//2 -> 1\n",
        "        self.linear =  nn.Sequential(\n",
        "            nn.Linear(d_model, d_model//2),\n",
        "            nn.ReLU(),\n",
        "            nn.Linear(d_model//2, 1)\n",
        "        )\n",
        "\n",
        "        # 차원 변환. iw -> ow\n",
        "        self.linear2 = nn.Sequential(\n",
        "            nn.Linear(iw, (iw+ow)//2),\n",
        "            nn.ReLU(),\n",
        "            nn.Linear((iw+ow)//2, ow)\n",
        "        )\n",
        "\n",
        "    def generate_square_subsequent_mask(self, size):\n",
        "        mask = (torch.triu(torch.ones(size, size)) == 1).transpose(0, 1)\n",
        "        mask = mask.float().masked_fill(mask == 0, float('-inf')).masked_fill(mask == 1, float(0.0))\n",
        "        return mask\n",
        "\n",
        "    def forward(self, src, srcmask):\n",
        "        src = self.encoder(src)\n",
        "        src = self.pos_encoder(src)\n",
        "        output = self.transformer_encoder(src.transpose(0,1), srcmask).transpose(0,1)\n",
        "        output = self.linear(output)[:,:,0]\n",
        "        output = self.linear2(output)\n",
        "        return output\n",
        "\n",
        "class PositionalEncoding(nn.Module):\n",
        "    def __init__(self, d_model, dropout=0.1, max_len=5000):\n",
        "        super(PositionalEncoding, self).__init__()\n",
        "        self.dropout = nn.Dropout(p=dropout)\n",
        "\n",
        "        pe = torch.zeros(max_len, d_model)\n",
        "        position = torch.arange(0, max_len, dtype=torch.float).unsqueeze(1)\n",
        "        div_term = torch.exp(torch.arange(0, d_model, 2).float() * (-math.log(10000.0) / d_model))\n",
        "        pe[:, 0::2] = torch.sin(position * div_term)\n",
        "        pe[:, 1::2] = torch.cos(position * div_term)\n",
        "        pe = pe.unsqueeze(0).transpose(0, 1)\n",
        "        self.register_buffer('pe', pe)\n",
        "\n",
        "    def forward(self, x):\n",
        "        x = x + self.pe[:x.size(0), :]\n",
        "        return self.dropout(x)\n",
        "\n",
        "def gen_attention_mask(x):\n",
        "    mask = torch.eq(x, 0)\n",
        "    return mask\n"
      ]
    },
    {
      "cell_type": "markdown",
      "metadata": {
        "id": "nEvoEQehIpqX"
      },
      "source": [
        "# 4.학습"
      ]
    },
    {
      "cell_type": "markdown",
      "metadata": {
        "id": "YmQeCcBoN8fI"
      },
      "source": [
        "- 입출력 윈도우 사이즈\n",
        "- Learning Rate\n",
        "- Model\n",
        "  - layer\n",
        "  - dropout\n",
        "  - multihead attention 개수\n",
        "- Cost Function\n",
        "- Optimizer\n",
        "\n",
        "\n"
      ]
    },
    {
      "cell_type": "code",
      "execution_count": null,
      "metadata": {
        "id": "YiqL3IYDkF3X"
      },
      "outputs": [],
      "source": [
        "# @title *데이터 가져오기*\n",
        "\n",
        "train_data, test_data = get_10y_data('KB금융')\n",
        "\n",
        "# 추가하는 부분\n",
        "N_FEATURES = 3\n",
        "print(test_data)"
      ]
    },
    {
      "cell_type": "code",
      "execution_count": 45,
      "metadata": {
        "id": "8icOKlTBrtNk"
      },
      "outputs": [],
      "source": [
        "end_row = 21 # 21일치 데이터를 삭제해 줌(RSI계산 이슈)\n",
        "\n",
        "# 특정 범위의 행 삭제\n",
        "train_data = train_data.drop(train_data.index[0:end_row])\n",
        "test_data = test_data.drop(test_data.index[0:end_row])\n"
      ]
    },
    {
      "cell_type": "markdown",
      "source": [
        "## **정규화** **진행**"
      ],
      "metadata": {
        "id": "Lyr-7LdbWPG6"
      }
    },
    {
      "cell_type": "code",
      "execution_count": null,
      "metadata": {
        "id": "9Epdh1jiw8KY"
      },
      "outputs": [],
      "source": [
        "from scipy.stats import zscore\n",
        "\n",
        "selected_column = ['종가', '거래량','RSI']\n",
        "\n",
        "# 선택한 열의 값들을 z-score 정규화\n",
        "selected_column_values = train_data[selected_column]\n",
        "z_scores = zscore(selected_column_values)\n",
        "train_data[selected_column] = z_scores\n",
        "\n",
        "selected_column_values = test_data[selected_column]\n",
        "z_scores = zscore(selected_column_values)\n",
        "test_data[selected_column] = z_scores\n",
        "\n",
        "print(test_data)\n"
      ]
    },
    {
      "cell_type": "code",
      "execution_count": 128,
      "metadata": {
        "id": "oxhMunZB7J43"
      },
      "outputs": [],
      "source": [
        "#lstm 데이터 세팅\n",
        "INPUT_WINDOW = 14\n",
        "OUTPUT_WINDOW = 14\n",
        "\n",
        "train_X = train_data.to_numpy()\n",
        "test_X = test_data.to_numpy()\n",
        "\n",
        "train_y = train_X[:,0]\n",
        "test_y = test_X[:,0]\n",
        "\n",
        "#트렌스포머 WINDOW사이즈를 고려하여 데이터를 맞춰준다.\n",
        "\n",
        "cut_size = INPUT_WINDOW - 1\n",
        "train_X=train_X[cut_size:,]\n",
        "train_y=train_y[cut_size:,]\n",
        "test_X=test_X[cut_size:,]\n",
        "test_y=test_y[cut_size:,]\n"
      ]
    },
    {
      "cell_type": "markdown",
      "metadata": {
        "id": "1-dGkYDIVFrl"
      },
      "source": [
        "기술지표 계산시 발생하는 NAN데이터 삭제"
      ]
    },
    {
      "cell_type": "markdown",
      "metadata": {
        "id": "DJgYL2S_XSJu"
      },
      "source": [
        "# TF model"
      ]
    },
    {
      "cell_type": "markdown",
      "source": [
        "ir = 1e-04\n",
        "batch size = 32"
      ],
      "metadata": {
        "id": "2mj-qpR7XOEw"
      }
    },
    {
      "cell_type": "code",
      "execution_count": 126,
      "metadata": {
        "id": "Y74qg9doJU5X"
      },
      "outputs": [],
      "source": [
        "# @title Hyper-parameter\n",
        "INPUT_WINDOW = 14\n",
        "OUTPUT_WINDOW = 14\n",
        "\n",
        "BATCH_SIZE= 32\n",
        "\n",
        "train_dataset = windowDataset(train_data, input_window=INPUT_WINDOW, output_window=OUTPUT_WINDOW, stride=1, n_features=N_FEATURES)\n",
        "train_loader = DataLoader(train_dataset, batch_size=BATCH_SIZE)     # 64 = 2^6, 512 = 2^9\n",
        "test_dataset = windowDataset(test_data, input_window=INPUT_WINDOW, output_window=OUTPUT_WINDOW, stride=1, n_features=N_FEATURES)\n",
        "test_loader = DataLoader(test_dataset, batch_size=BATCH_SIZE)     # 64 = 2^6, 512 = 2^9\n",
        "\n",
        "\n",
        "if torch.cuda.is_available():\n",
        "  device = torch.device('cuda')\n",
        "else:\n",
        "  device = torch.device('cpu')\n",
        "\n",
        "lr = 1e-4 # 학습률을 적당히 설정하는 게 중요함.\n",
        "\n",
        "tf_model = TFModel(iw=INPUT_WINDOW, ow=OUTPUT_WINDOW, d_model=512, nhead=8, nlayers=4, dropout=0.1, n_features=N_FEATURES).to(device)\n",
        "criterion = nn.MSELoss()                                            # MSEloss(): ow 각 요소들의 합\n",
        "optimizer = torch.optim.Adam(tf_model.parameters(), lr=lr)"
      ]
    },
    {
      "cell_type": "code",
      "execution_count": 54,
      "metadata": {
        "id": "xIaP9ZndLu3R"
      },
      "outputs": [],
      "source": [
        "train_losses = []  # 각 에포크의 훈련 손실 값을 저장할 리스트\n"
      ]
    },
    {
      "cell_type": "code",
      "execution_count": 55,
      "metadata": {
        "id": "_NnYlIderGyS",
        "colab": {
          "base_uri": "https://localhost:8080/",
          "height": 725
        },
        "outputId": "eb1d14bc-ed65-4657-a3cd-2ef961ae6e61"
      },
      "outputs": [
        {
          "output_type": "stream",
          "name": "stderr",
          "text": [
            "loss: 1.045054:   2%|▏         | 1/50 [00:01<00:59,  1.21s/it]"
          ]
        },
        {
          "output_type": "stream",
          "name": "stdout",
          "text": [
            "\n"
          ]
        },
        {
          "output_type": "stream",
          "name": "stderr",
          "text": [
            "loss: 1.038659:   4%|▍         | 2/50 [00:02<00:53,  1.12s/it]"
          ]
        },
        {
          "output_type": "stream",
          "name": "stdout",
          "text": [
            "\n"
          ]
        },
        {
          "output_type": "stream",
          "name": "stderr",
          "text": [
            "loss: 1.038999:   6%|▌         | 3/50 [00:03<00:51,  1.09s/it]"
          ]
        },
        {
          "output_type": "stream",
          "name": "stdout",
          "text": [
            "\n"
          ]
        },
        {
          "output_type": "stream",
          "name": "stderr",
          "text": [
            "loss: 1.043782:   8%|▊         | 4/50 [00:04<00:49,  1.08s/it]"
          ]
        },
        {
          "output_type": "stream",
          "name": "stdout",
          "text": [
            "\n"
          ]
        },
        {
          "output_type": "stream",
          "name": "stderr",
          "text": [
            "loss: 1.054413:  10%|█         | 5/50 [00:05<00:48,  1.07s/it]"
          ]
        },
        {
          "output_type": "stream",
          "name": "stdout",
          "text": [
            "\n"
          ]
        },
        {
          "output_type": "stream",
          "name": "stderr",
          "text": [
            "loss: 1.065868:  12%|█▏        | 6/50 [00:06<00:46,  1.06s/it]"
          ]
        },
        {
          "output_type": "stream",
          "name": "stdout",
          "text": [
            "\n"
          ]
        },
        {
          "output_type": "stream",
          "name": "stderr",
          "text": [
            "loss: 1.106360:  14%|█▍        | 7/50 [00:07<00:45,  1.07s/it]"
          ]
        },
        {
          "output_type": "stream",
          "name": "stdout",
          "text": [
            "\n"
          ]
        },
        {
          "output_type": "stream",
          "name": "stderr",
          "text": [
            "loss: 1.082839:  16%|█▌        | 8/50 [00:08<00:44,  1.06s/it]"
          ]
        },
        {
          "output_type": "stream",
          "name": "stdout",
          "text": [
            "\n"
          ]
        },
        {
          "output_type": "stream",
          "name": "stderr",
          "text": [
            "loss: 1.047741:  18%|█▊        | 9/50 [00:09<00:43,  1.06s/it]"
          ]
        },
        {
          "output_type": "stream",
          "name": "stdout",
          "text": [
            "\n"
          ]
        },
        {
          "output_type": "stream",
          "name": "stderr",
          "text": [
            "loss: 1.042039:  20%|██        | 10/50 [00:10<00:42,  1.06s/it]"
          ]
        },
        {
          "output_type": "stream",
          "name": "stdout",
          "text": [
            "\n"
          ]
        },
        {
          "output_type": "stream",
          "name": "stderr",
          "text": [
            "loss: 1.044171:  22%|██▏       | 11/50 [00:11<00:43,  1.12s/it]"
          ]
        },
        {
          "output_type": "stream",
          "name": "stdout",
          "text": [
            "\n"
          ]
        },
        {
          "output_type": "stream",
          "name": "stderr",
          "text": [
            "loss: 1.041100:  22%|██▏       | 11/50 [00:13<00:46,  1.20s/it]"
          ]
        },
        {
          "output_type": "stream",
          "name": "stdout",
          "text": [
            "\n",
            "Early stopping due to no improvement for 10 epochs.\n"
          ]
        },
        {
          "output_type": "stream",
          "name": "stderr",
          "text": [
            "\n"
          ]
        },
        {
          "output_type": "display_data",
          "data": {
            "text/plain": [
              "<Figure size 640x480 with 1 Axes>"
            ],
            "image/png": "[encoded data removed]"
          },
          "metadata": {}
        }
      ],
      "source": [
        "# @title TF Train\n",
        "\n",
        "gc.collect()\n",
        "torch.cuda.empty_cache()\n",
        "\n",
        "# for tqdm\n",
        "from tqdm import tqdm\n",
        "\n",
        "# for trainig mode\n",
        "epoch = 50\n",
        "tf_model.train()\n",
        "progress = tqdm(range(epoch))\n",
        "\n",
        "# for drawing loss per epoch.\n",
        "max_non_improvement = 10  # 일정 기간동안 개선되지 않을 때 학습을 종료하기 위한 조건\n",
        "best_loss = float('inf')  # 최적의 손실 값을 추적하기 위한 변수\n",
        "no_improvement_count = 0  # 개선되지 않은 에포크 카운트\n",
        "\n",
        "for i in progress:\n",
        "  batchloss = 0.0\n",
        "  for (inputs, outputs) in train_loader:\n",
        "    # inputs.shape: [batch_size, iw, 1] -> 1 말구 num_of features\n",
        "    # outputs.shape: [batch_size, ow, 1]\n",
        "    # Initialize grad\n",
        "    optimizer.zero_grad()                                           # zero_grad()로 Torch.Tensor.grad 초기화. 초기화하지 않으면 다음 루프 backward() 시에 간섭함.\n",
        "    # 모델에 사용할 마스크 생성\n",
        "    # Forward propagation with masking\n",
        "    src_mask = tf_model.generate_square_subsequent_mask(inputs.shape[1]).to(device)\n",
        "\n",
        "    result = tf_model(inputs.float().to(device), src_mask)             # forward\n",
        "\n",
        "    # Backward propagation\n",
        "    loss = criterion(result, outputs[:,:,0].float().to(device))     # ?? 64개 중 하나만 loss를 담네?\n",
        "    # print(f\"[result]\\n{result}\\n\\n[output[:,:,0]]\\n{outputs[:,:,0]}\\n\\n[outputs]\\n{outputs}\")\n",
        "    loss.backward()                                                 # backward\n",
        "    optimizer.step()\n",
        "    batchloss += loss\n",
        "\n",
        "  print()\n",
        "  progress.set_description(f\"loss: {batchloss.cpu().item() / len(train_loader):0.6f}\")\n",
        "\n",
        "  # 훈련 손실 값 저장\n",
        "  train_losses.append(batchloss.cpu().item() / len(train_loader))\n",
        "\n",
        "  # 조기 종료 검사 및 학습 곡선 그리기\n",
        "  if batchloss < best_loss:\n",
        "    best_loss = batchloss\n",
        "    no_improvement_count = 0\n",
        "  else:\n",
        "    no_improvement_count += 1\n",
        "\n",
        "  if no_improvement_count >= max_non_improvement:\n",
        "    print(f\"Early stopping due to no improvement for {max_non_improvement} epochs.\")\n",
        "    break\n",
        "\n",
        "progress.close()\n",
        "\n",
        "# 학습 곡선 그리기\n",
        "plt.plot(range(1, len(train_losses) + 1), train_losses, label='Train Loss')\n",
        "plt.xlabel('Epoch')\n",
        "plt.ylabel('Loss')\n",
        "plt.title('Training Loss Curve')\n",
        "plt.legend()\n",
        "plt.show()"
      ]
    },
    {
      "cell_type": "markdown",
      "metadata": {
        "id": "EIU5cu4p-LbU"
      },
      "source": [
        "## 3) TF Test"
      ]
    },
    {
      "cell_type": "code",
      "execution_count": 86,
      "metadata": {
        "id": "5iM3ACWWurGX",
        "colab": {
          "base_uri": "https://localhost:8080/"
        },
        "outputId": "29f378e6-88eb-4e53-febd-337238070371"
      },
      "outputs": [
        {
          "output_type": "stream",
          "name": "stderr",
          "text": [
            "Evaluating: 100%|██████████| 26/26 [00:00<00:00, 124.90it/s]"
          ]
        },
        {
          "output_type": "stream",
          "name": "stdout",
          "text": [
            "\n",
            "TF model) Directional Accuracy: 60.097919%\n"
          ]
        },
        {
          "output_type": "stream",
          "name": "stderr",
          "text": [
            "\n"
          ]
        }
      ],
      "source": [
        "# set evaluation mode\n",
        "tf_model.eval()\n",
        "\n",
        "# Initialize correct & total\n",
        "correct = 0\n",
        "total = 0\n",
        "\n",
        "my_array = np.array([])\n",
        "\n",
        "# 기울기 계산을 방지하기 위해 torch.no_grad() 블록 안에서 평가\n",
        "with torch.no_grad():\n",
        "  for (inputs, outputs) in tqdm(test_loader, desc=\"Evaluating\"):\n",
        "    # Forward propagation with masking\n",
        "    src_mask = tf_model.generate_square_subsequent_mask(inputs.shape[1]).to(device)\n",
        "    result = tf_model(inputs.float().to(device), src_mask)\n",
        "\n",
        "    # 상승/하강 예측\n",
        "    predicted_changes = torch.sign(result[:, -1] - inputs[:, -1, 0].to(device))             # 마지막 예측 값 - 마지막 입력 값\n",
        "    true_changes = torch.sign(outputs[:, -1, 0].to(device) - inputs[:, -1, 0].to(device))  # 실제 마지막 값 - 마지막 입력 값\n",
        "\n",
        "    # 예측이 맞는 경우\n",
        "    correct += (predicted_changes == true_changes).sum().item()\n",
        "    total += inputs.size(0)\n",
        "\n",
        "  progress.set_description(f\"current accuracy: {correct/total:0.6f}\")\n",
        "\n",
        "# 정확도 계산\n",
        "accuracy = correct / total\n",
        "print(f\"\\nTF model) Directional Accuracy: {accuracy * 100:.6f}%\")\n"
      ]
    },
    {
      "cell_type": "markdown",
      "metadata": {
        "id": "PVIsf8AzEPfO"
      },
      "source": [
        "# **lstm**"
      ]
    },
    {
      "cell_type": "code",
      "source": [
        "# #이 함수 필요없음\n",
        "\n",
        "# def reshape_function(lstm_X): #lstm 모델을 위한 데이터 reshape함수.\n",
        "#   # 3차원 배열을 2차원으로 변환\n",
        "#   lstm_X_reshaped = lstm_X.reshape(-1, lstm_X.shape[-1])\n",
        "\n",
        "#   # MinMaxScaler 객체 생성\n",
        "#   scaler = MinMaxScaler()\n",
        "\n",
        "#   # 스케일링을 위해 데이터에 적합(fit)하고 변환(transform)\n",
        "#   scaled_data = scaler.fit_transform(lstm_X_reshaped)\n",
        "\n",
        "#   # 다시 3차원 형태로 변환\n",
        "#   lstm_X = scaled_data.reshape(lstm_X.shape)\n",
        "\n",
        "#   return lstm_X"
      ],
      "metadata": {
        "id": "mKCsTwl3WTgS"
      },
      "execution_count": 63,
      "outputs": []
    },
    {
      "cell_type": "code",
      "execution_count": 129,
      "metadata": {
        "id": "xiFpLHJXxlKO"
      },
      "outputs": [],
      "source": [
        "\n",
        "def lstm_fit(): # lstm 데이터 생성 및 모델 구성, 학습하는 함수.\n",
        "\n",
        "  # 데이터 시퀀스\n",
        "  sequence_length = 14\n",
        "\n",
        "  lstm_X = []\n",
        "  lstm_y = []\n",
        "  lstm_test_X = []\n",
        "  lstm_test_y = []\n",
        "\n",
        "  for i in range(len(train_X) - sequence_length - 1):\n",
        "      lstm_X.append(train_X[i:i+sequence_length])\n",
        "      lstm_y.append([train_y[i+sequence_length]])\n",
        "\n",
        "  for i in range(len(test_X) - sequence_length - 1):\n",
        "      lstm_test_X.append(test_X[i:i+sequence_length])\n",
        "      lstm_test_y.append([test_y[i+sequence_length]])\n",
        "\n",
        "  lstm_X = np.array(lstm_X)\n",
        "  lstm_y = np.array(lstm_y)\n",
        "  lstm_test_X = np.array(lstm_test_X)\n",
        "  lstm_test_y = np.array(lstm_test_y)\n",
        "\n",
        "  # LSTM 모델 구성\n",
        "  lstm_model = Sequential()\n",
        "  lstm_model.add(LSTM(50, input_shape=(lstm_X.shape[1], lstm_X.shape[2]))) # 21,3\n",
        "  lstm_model.add(Dense(1))\n",
        "  lstm_model.compile(optimizer='adam', loss='mean_squared_error')\n",
        "\n",
        "  # 모델 학습\n",
        "  lstm_model.fit(lstm_X, lstm_y, epochs=100, batch_size=32)\n",
        "\n",
        "  # 모델 실행\n",
        "  loss = lstm_model.evaluate(lstm_test_X, lstm_test_y)\n",
        "  print(f'Test Loss: {loss}')\n",
        "\n",
        "  return lstm_model, lstm_test_X, lstm_test_y"
      ]
    },
    {
      "cell_type": "markdown",
      "source": [
        "## **SVM**"
      ],
      "metadata": {
        "id": "CZ3LHNrMDzq9"
      }
    },
    {
      "cell_type": "markdown",
      "source": [
        "svm 모델 생성하고 학습하는 함수\n"
      ],
      "metadata": {
        "id": "8D2i7M6CKPhF"
      }
    },
    {
      "cell_type": "markdown",
      "source": [
        "linear kernel을 사용할 때 정확도가 소폭 상승함.\n",
        "\n",
        "*   항목 추가\n",
        "*   항목 추가\n",
        "\n"
      ],
      "metadata": {
        "id": "WCUwTxBSZKuo"
      }
    },
    {
      "cell_type": "markdown",
      "source": [
        "**분류 문제를 위한 상승, 하락 이진분류 라벨을 담은 배열을 만들어주는 함수.**"
      ],
      "metadata": {
        "id": "CbK-nvT2mQ6Y"
      }
    },
    {
      "cell_type": "code",
      "source": [
        "def svm_binary_classify(train_data_y):\n",
        "  # 전일 대비 상승(1) 또는 하락(0) 여부를 담을 배열 초기화\n",
        "  price_movement = np.zeros(len(train_data_y), dtype=int)\n",
        "\n",
        "  # 주가 데이터를 기반으로 전일 대비 상승 또는 하락 여부를 계산\n",
        "  for i in range(1, len(train_data_y)):\n",
        "      if train_data_y[i] > train_data_y[i - 1]:\n",
        "          price_movement[i] = 1  # 상승\n",
        "      elif train_data_y[i] < train_data_y[i - 1]:\n",
        "          price_movement[i] = 0  # 하락\n",
        "\n",
        "  return price_movement"
      ],
      "metadata": {
        "id": "H6VNi7hHeCEO"
      },
      "execution_count": 122,
      "outputs": []
    },
    {
      "cell_type": "code",
      "source": [
        "def svm_fit():\n",
        "  train_y_binary = svm_binary_classify(train_y)\n",
        "  test_y_binary = svm_binary_classify(test_y)\n",
        "\n",
        "  #  SVM 모델 생성 및 학습\n",
        "  svm_model = SVC(kernel='linear', C=1)\n",
        "  svm_model.fit(train_X, train_y_binary)\n",
        "\n",
        "  return svm_model, test_y_binary\n"
      ],
      "metadata": {
        "id": "2kqjiivcidYY"
      },
      "execution_count": 109,
      "outputs": []
    },
    {
      "cell_type": "code",
      "source": [
        "# def svm_fit():\n",
        "\n",
        "#   # SVR 모델 생성하여 학습함.\n",
        "#   svm_model = SVR(kernel='linear')  # Radial basis function (RBF) 커널 사용 <->linear regression도 있다.\n",
        "\n",
        "#   # 모델 학습\n",
        "#   svm_model.fit(train_X[:-1], train_y[1:])\n",
        "\n",
        "#   return svm_model"
      ],
      "metadata": {
        "id": "yMIXS48rY7l8"
      },
      "execution_count": 75,
      "outputs": []
    },
    {
      "cell_type": "markdown",
      "source": [
        "## **LSTM, SVM 예측 및 정확도 측정**"
      ],
      "metadata": {
        "id": "S0UeQ2hGHiOH"
      }
    },
    {
      "cell_type": "markdown",
      "source": [
        "**lstm 정확도 측정 함수**"
      ],
      "metadata": {
        "id": "IMBjWN_4IDxO"
      }
    },
    {
      "cell_type": "code",
      "source": [
        "def calculate_accuracy(predicted_prices, actual_prices):\n",
        "    if len(actual_prices) != len(predicted_prices):\n",
        "        print(len(actual_prices),len(predicted_prices))\n",
        "        raise ValueError(\"데이터의 길이가 일치해야 합니다.\")\n",
        "\n",
        "    correct_predictions = 0\n",
        "\n",
        "    for i in range(len(actual_prices) - 1):\n",
        "        if (predicted_prices[i+1] - actual_prices[i]) * (actual_prices[i+1] - actual_prices[i]) >= 0:\n",
        "            correct_predictions += 1\n",
        "\n",
        "    accuracy = (correct_predictions / (len(actual_prices) - 1)) * 100  # 정확도 계산 (마지막 데이터는 다음 데이터가 없어서 제외)\n",
        "\n",
        "    return accuracy"
      ],
      "metadata": {
        "id": "UQzKMSrKIC70"
      },
      "execution_count": 81,
      "outputs": []
    },
    {
      "cell_type": "markdown",
      "source": [
        "**LSTM**"
      ],
      "metadata": {
        "id": "-6XDCP2xHsZc"
      }
    },
    {
      "cell_type": "code",
      "source": [
        "# 하위 모델 생성\n",
        "lstm_model, lstm_test_X, lstm_test_y =  lstm_fit()  # LSTM 모델을 구성하고 학습한 모델\n",
        "\n",
        "# 하위 모델 예측\n",
        "lstm_predictions = lstm_model.predict(lstm_test_X)\n",
        "lstm_predictions = lstm_predictions.reshape(lstm_predictions.shape[0])\n",
        "lstm_test_y = lstm_test_y.reshape(lstm_test_y.shape[0])\n",
        "\n",
        "\n",
        "# lstm 예측 결과 시각화\n",
        "plt.figure(figsize=(12, 6))\n",
        "plt.plot(lstm_predictions, label='Predicted')\n",
        "plt.plot(lstm_test_y, label='True')\n",
        "plt.title('lstm 예측 결과')\n",
        "plt.legend()\n",
        "plt.show()\n"
      ],
      "metadata": {
        "colab": {
          "base_uri": "https://localhost:8080/",
          "height": 1000
        },
        "id": "1DQOlIfvFttR",
        "outputId": "a4cdcabf-504f-482c-dc2c-d77bbcb7d098"
      },
      "execution_count": 130,
      "outputs": [
        {
          "output_type": "stream",
          "name": "stdout",
          "text": [
            "Epoch 1/100\n",
            "60/60 [==============================] - 2s 4ms/step - loss: 0.2059\n",
            "Epoch 2/100\n",
            "60/60 [==============================] - 0s 4ms/step - loss: 0.0249\n",
            "Epoch 3/100\n",
            "60/60 [==============================] - 0s 4ms/step - loss: 0.0187\n",
            "Epoch 4/100\n",
            "60/60 [==============================] - 0s 4ms/step - loss: 0.0154\n",
            "Epoch 5/100\n",
            "60/60 [==============================] - 0s 4ms/step - loss: 0.0144\n",
            "Epoch 6/100\n",
            "60/60 [==============================] - 0s 4ms/step - loss: 0.0135\n",
            "Epoch 7/100\n",
            "60/60 [==============================] - 0s 4ms/step - loss: 0.0129\n",
            "Epoch 8/100\n",
            "60/60 [==============================] - 0s 4ms/step - loss: 0.0129\n",
            "Epoch 9/100\n",
            "60/60 [==============================] - 0s 4ms/step - loss: 0.0127\n",
            "Epoch 10/100\n",
            "60/60 [==============================] - 0s 4ms/step - loss: 0.0122\n",
            "Epoch 11/100\n",
            "60/60 [==============================] - 0s 4ms/step - loss: 0.0119\n",
            "Epoch 12/100\n",
            "60/60 [==============================] - 0s 4ms/step - loss: 0.0121\n",
            "Epoch 13/100\n",
            "60/60 [==============================] - 0s 4ms/step - loss: 0.0115\n",
            "Epoch 14/100\n",
            "60/60 [==============================] - 0s 4ms/step - loss: 0.0117\n",
            "Epoch 15/100\n",
            "60/60 [==============================] - 0s 4ms/step - loss: 0.0112\n",
            "Epoch 16/100\n",
            "60/60 [==============================] - 0s 4ms/step - loss: 0.0114\n",
            "Epoch 17/100\n",
            "60/60 [==============================] - 0s 4ms/step - loss: 0.0111\n",
            "Epoch 18/100\n",
            "60/60 [==============================] - 0s 4ms/step - loss: 0.0113\n",
            "Epoch 19/100\n",
            "60/60 [==============================] - 0s 4ms/step - loss: 0.0111\n",
            "Epoch 20/100\n",
            "60/60 [==============================] - 0s 4ms/step - loss: 0.0108\n",
            "Epoch 21/100\n",
            "60/60 [==============================] - 0s 4ms/step - loss: 0.0109\n",
            "Epoch 22/100\n",
            "60/60 [==============================] - 0s 4ms/step - loss: 0.0105\n",
            "Epoch 23/100\n",
            "60/60 [==============================] - 0s 4ms/step - loss: 0.0108\n",
            "Epoch 24/100\n",
            "60/60 [==============================] - 0s 4ms/step - loss: 0.0109\n",
            "Epoch 25/100\n",
            "60/60 [==============================] - 0s 4ms/step - loss: 0.0101\n",
            "Epoch 26/100\n",
            "60/60 [==============================] - 0s 6ms/step - loss: 0.0105\n",
            "Epoch 27/100\n",
            "60/60 [==============================] - 0s 5ms/step - loss: 0.0098\n",
            "Epoch 28/100\n",
            "60/60 [==============================] - 0s 5ms/step - loss: 0.0100\n",
            "Epoch 29/100\n",
            "60/60 [==============================] - 0s 5ms/step - loss: 0.0099\n",
            "Epoch 30/100\n",
            "60/60 [==============================] - 0s 6ms/step - loss: 0.0097\n",
            "Epoch 31/100\n",
            "60/60 [==============================] - 0s 6ms/step - loss: 0.0095\n",
            "Epoch 32/100\n",
            "60/60 [==============================] - 0s 5ms/step - loss: 0.0098\n",
            "Epoch 33/100\n",
            "60/60 [==============================] - 0s 4ms/step - loss: 0.0096\n",
            "Epoch 34/100\n",
            "60/60 [==============================] - 0s 4ms/step - loss: 0.0092\n",
            "Epoch 35/100\n",
            "60/60 [==============================] - 0s 4ms/step - loss: 0.0092\n",
            "Epoch 36/100\n",
            "60/60 [==============================] - 0s 4ms/step - loss: 0.0089\n",
            "Epoch 37/100\n",
            "60/60 [==============================] - 0s 4ms/step - loss: 0.0089\n",
            "Epoch 38/100\n",
            "60/60 [==============================] - 0s 4ms/step - loss: 0.0089\n",
            "Epoch 39/100\n",
            "60/60 [==============================] - 0s 4ms/step - loss: 0.0089\n",
            "Epoch 40/100\n",
            "60/60 [==============================] - 0s 4ms/step - loss: 0.0088\n",
            "Epoch 41/100\n",
            "60/60 [==============================] - 0s 4ms/step - loss: 0.0092\n",
            "Epoch 42/100\n",
            "60/60 [==============================] - 0s 4ms/step - loss: 0.0090\n",
            "Epoch 43/100\n",
            "60/60 [==============================] - 0s 4ms/step - loss: 0.0087\n",
            "Epoch 44/100\n",
            "60/60 [==============================] - 0s 4ms/step - loss: 0.0084\n",
            "Epoch 45/100\n",
            "60/60 [==============================] - 0s 4ms/step - loss: 0.0085\n",
            "Epoch 46/100\n",
            "60/60 [==============================] - 0s 4ms/step - loss: 0.0084\n",
            "Epoch 47/100\n",
            "60/60 [==============================] - 0s 4ms/step - loss: 0.0086\n",
            "Epoch 48/100\n",
            "60/60 [==============================] - 0s 4ms/step - loss: 0.0085\n",
            "Epoch 49/100\n",
            "60/60 [==============================] - 0s 4ms/step - loss: 0.0082\n",
            "Epoch 50/100\n",
            "60/60 [==============================] - 0s 4ms/step - loss: 0.0086\n",
            "Epoch 51/100\n",
            "60/60 [==============================] - 0s 4ms/step - loss: 0.0085\n",
            "Epoch 52/100\n",
            "60/60 [==============================] - 0s 4ms/step - loss: 0.0084\n",
            "Epoch 53/100\n",
            "60/60 [==============================] - 0s 4ms/step - loss: 0.0082\n",
            "Epoch 54/100\n",
            "60/60 [==============================] - 0s 4ms/step - loss: 0.0081\n",
            "Epoch 55/100\n",
            "60/60 [==============================] - 0s 4ms/step - loss: 0.0078\n",
            "Epoch 56/100\n",
            "60/60 [==============================] - 0s 4ms/step - loss: 0.0081\n",
            "Epoch 57/100\n",
            "60/60 [==============================] - 0s 4ms/step - loss: 0.0080\n",
            "Epoch 58/100\n",
            "60/60 [==============================] - 0s 4ms/step - loss: 0.0078\n",
            "Epoch 59/100\n",
            "60/60 [==============================] - 0s 4ms/step - loss: 0.0079\n",
            "Epoch 60/100\n",
            "60/60 [==============================] - 0s 4ms/step - loss: 0.0078\n",
            "Epoch 61/100\n",
            "60/60 [==============================] - 0s 4ms/step - loss: 0.0078\n",
            "Epoch 62/100\n",
            "60/60 [==============================] - 0s 4ms/step - loss: 0.0077\n",
            "Epoch 63/100\n",
            "60/60 [==============================] - 0s 4ms/step - loss: 0.0075\n",
            "Epoch 64/100\n",
            "60/60 [==============================] - 0s 4ms/step - loss: 0.0076\n",
            "Epoch 65/100\n",
            "60/60 [==============================] - 0s 4ms/step - loss: 0.0076\n",
            "Epoch 66/100\n",
            "60/60 [==============================] - 0s 4ms/step - loss: 0.0075\n",
            "Epoch 67/100\n",
            "60/60 [==============================] - 0s 4ms/step - loss: 0.0078\n",
            "Epoch 68/100\n",
            "60/60 [==============================] - 0s 4ms/step - loss: 0.0077\n",
            "Epoch 69/100\n",
            "60/60 [==============================] - 0s 4ms/step - loss: 0.0079\n",
            "Epoch 70/100\n",
            "60/60 [==============================] - 0s 4ms/step - loss: 0.0076\n",
            "Epoch 71/100\n",
            "60/60 [==============================] - 0s 4ms/step - loss: 0.0076\n",
            "Epoch 72/100\n",
            "60/60 [==============================] - 0s 5ms/step - loss: 0.0075\n",
            "Epoch 73/100\n",
            "60/60 [==============================] - 0s 6ms/step - loss: 0.0075\n",
            "Epoch 74/100\n",
            "60/60 [==============================] - 0s 6ms/step - loss: 0.0074\n",
            "Epoch 75/100\n",
            "60/60 [==============================] - 0s 6ms/step - loss: 0.0074\n",
            "Epoch 76/100\n",
            "60/60 [==============================] - 0s 6ms/step - loss: 0.0074\n",
            "Epoch 77/100\n",
            "60/60 [==============================] - 0s 5ms/step - loss: 0.0074\n",
            "Epoch 78/100\n",
            "60/60 [==============================] - 0s 6ms/step - loss: 0.0076\n",
            "Epoch 79/100\n",
            "60/60 [==============================] - 0s 5ms/step - loss: 0.0075\n",
            "Epoch 80/100\n",
            "60/60 [==============================] - 0s 4ms/step - loss: 0.0075\n",
            "Epoch 81/100\n",
            "60/60 [==============================] - 0s 4ms/step - loss: 0.0073\n",
            "Epoch 82/100\n",
            "60/60 [==============================] - 0s 4ms/step - loss: 0.0073\n",
            "Epoch 83/100\n",
            "60/60 [==============================] - 0s 4ms/step - loss: 0.0076\n",
            "Epoch 84/100\n",
            "60/60 [==============================] - 0s 4ms/step - loss: 0.0075\n",
            "Epoch 85/100\n",
            "60/60 [==============================] - 0s 4ms/step - loss: 0.0072\n",
            "Epoch 86/100\n",
            "60/60 [==============================] - 0s 4ms/step - loss: 0.0075\n",
            "Epoch 87/100\n",
            "60/60 [==============================] - 0s 4ms/step - loss: 0.0072\n",
            "Epoch 88/100\n",
            "60/60 [==============================] - 0s 4ms/step - loss: 0.0071\n",
            "Epoch 89/100\n",
            "60/60 [==============================] - 0s 4ms/step - loss: 0.0073\n",
            "Epoch 90/100\n",
            "60/60 [==============================] - 0s 4ms/step - loss: 0.0073\n",
            "Epoch 91/100\n",
            "60/60 [==============================] - 0s 4ms/step - loss: 0.0071\n",
            "Epoch 92/100\n",
            "60/60 [==============================] - 0s 4ms/step - loss: 0.0072\n",
            "Epoch 93/100\n",
            "60/60 [==============================] - 0s 4ms/step - loss: 0.0073\n",
            "Epoch 94/100\n",
            "60/60 [==============================] - 0s 4ms/step - loss: 0.0073\n",
            "Epoch 95/100\n",
            "60/60 [==============================] - 0s 4ms/step - loss: 0.0072\n",
            "Epoch 96/100\n",
            "60/60 [==============================] - 0s 4ms/step - loss: 0.0070\n",
            "Epoch 97/100\n",
            "60/60 [==============================] - 0s 4ms/step - loss: 0.0070\n",
            "Epoch 98/100\n",
            "60/60 [==============================] - 0s 4ms/step - loss: 0.0071\n",
            "Epoch 99/100\n",
            "60/60 [==============================] - 0s 4ms/step - loss: 0.0073\n",
            "Epoch 100/100\n",
            "60/60 [==============================] - 0s 4ms/step - loss: 0.0071\n",
            "26/26 [==============================] - 0s 3ms/step - loss: 0.0164\n",
            "Test Loss: 0.016436897218227386\n",
            "26/26 [==============================] - 0s 2ms/step\n"
          ]
        },
        {
          "output_type": "display_data",
          "data": {
            "text/plain": [
              "<Figure size 1200x600 with 1 Axes>"
            ],
            "image/png": "[encoded data removed]"
          },
          "metadata": {}
        }
      ]
    },
    {
      "cell_type": "markdown",
      "source": [
        "**SVM**"
      ],
      "metadata": {
        "id": "oC2tPnQIH_Yi"
      }
    },
    {
      "cell_type": "code",
      "source": [
        "import pandas as pd\n",
        "from sklearn.model_selection import train_test_split\n",
        "from sklearn.preprocessing import StandardScaler\n",
        "from sklearn.svm import SVC\n",
        "from sklearn.metrics import accuracy_score\n",
        "\n",
        "# 하위 모델 생성\n",
        "svm_model, test_y_binary = svm_fit()\n",
        "\n",
        "# 모델 예측\n",
        "svm_predictions = svm_model.predict(test_X)\n",
        "\n",
        "# 정확도 평가\n",
        "svm_accuracy = accuracy_score(test_y_binary, svm_predictions)\n",
        "svm_accuracy = svm_accuracy * 100\n",
        "print(f'svm 정확도 : {svm_accuracy:.6f}%')\n",
        "\n",
        "# 예측 결과 시각화\n",
        "# plt.figure(figsize=(12, 6))\n",
        "# plt.scatter(test_y_binary, svm_predictions)\n",
        "# # plt.plot(x = test_y_binary, y=svm_predictions,kind='scatter')\n",
        "\n",
        "# # plt.plot(test_y_binary, label='True')\n",
        "# # plt.plot(svm_predictions, label='Predicted')\n",
        "# plt.title('svm 주가 예측 결과')\n",
        "# plt.legend()\n",
        "# plt.show()\n"
      ],
      "metadata": {
        "colab": {
          "base_uri": "https://localhost:8080/"
        },
        "id": "dlbPhOZgcrGL",
        "outputId": "47373c06-3698-4e90-fe55-d54432d6103f"
      },
      "execution_count": 124,
      "outputs": [
        {
          "output_type": "stream",
          "name": "stdout",
          "text": [
            "svm 정확도 : 58.139535%\n"
          ]
        }
      ]
    },
    {
      "cell_type": "markdown",
      "source": [
        "svr -> regression model (분류모델(svc)보다 정확도가 낮아 svc방식 선택)"
      ],
      "metadata": {
        "id": "M8P5PMLMhNsE"
      }
    },
    {
      "cell_type": "code",
      "source": [
        "# # 모델 생성\n",
        "# svm_model = svm_fit()\n",
        "\n",
        "# # 모델 예측\n",
        "# svm_predictions = svm_model.predict(test_X[:-1])\n",
        "\n",
        "# # 성능 평가 (평균 제곱 오차)\n",
        "# mse = mean_squared_error(test_y[1:], svm_predictions)\n",
        "# print(f'svm loss (MSE): {mse}')\n",
        "\n",
        "# # 예측 결과 시각화\n",
        "# plt.figure(figsize=(12, 6))\n",
        "# plt.plot(test_y, label='True')\n",
        "# plt.plot(svm_predictions, label='Predicted')\n",
        "# plt.title('svm 주가 예측 결과')\n",
        "# plt.legend()\n",
        "# plt.show()"
      ],
      "metadata": {
        "id": "toxo0WB3H81M"
      },
      "execution_count": null,
      "outputs": []
    },
    {
      "cell_type": "code",
      "execution_count": 131,
      "metadata": {
        "id": "yYSxAjNPS9up",
        "colab": {
          "base_uri": "https://localhost:8080/"
        },
        "outputId": "901b3494-c574-4beb-f357-4186422e2631"
      },
      "outputs": [
        {
          "output_type": "stream",
          "name": "stdout",
          "text": [
            "lstm 정확도: 56.319018%\n",
            "svm 정확도: 58.139535%\n"
          ]
        }
      ],
      "source": [
        "\n",
        "lstm_accuracy=calculate_accuracy(lstm_predictions, lstm_test_y)\n",
        "\n",
        "print(f\"lstm 정확도: {lstm_accuracy:.6f}%\")\n",
        "print(f\"svm 정확도: {svm_accuracy:.6f}%\")\n"
      ]
    }
  ],
  "metadata": {
    "accelerator": "GPU",
    "colab": {
      "provenance": [],
      "collapsed_sections": [
        "DG48bZ0AevsG",
        "zzcBKutXIEww",
        "as3ta03WIkK2"
      ],
      "gpuType": "T4"
    },
    "kernelspec": {
      "display_name": "Python 3",
      "name": "python3"
    },
    "language_info": {
      "name": "python"
    }
  },
  "nbformat": 4,
  "nbformat_minor": 0
}